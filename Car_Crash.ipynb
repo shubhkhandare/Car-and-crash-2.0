{
  "nbformat": 4,
  "nbformat_minor": 0,
  "metadata": {
    "colab": {
      "provenance": [],
      "gpuType": "T4",
      "authorship_tag": "ABX9TyMPODDtBJTRZLxT5KlsCofm",
      "include_colab_link": true
    },
    "kernelspec": {
      "name": "python3",
      "display_name": "Python 3"
    },
    "language_info": {
      "name": "python"
    },
    "accelerator": "GPU"
  },
  "cells": [
    {
      "cell_type": "markdown",
      "metadata": {
        "id": "view-in-github",
        "colab_type": "text"
      },
      "source": [
        "<a href=\"https://colab.research.google.com/github/shubhkhandare/Car-and-crash-2.0/blob/main/Car_Crash.ipynb\" target=\"_parent\"><img src=\"https://colab.research.google.com/assets/colab-badge.svg\" alt=\"Open In Colab\"/></a>"
      ]
    },
    {
      "cell_type": "code",
      "execution_count": null,
      "metadata": {
        "id": "MmHviMeZl7e7"
      },
      "outputs": [],
      "source": [
        "!pip install ultralytics"
      ]
    },
    {
      "cell_type": "code",
      "source": [
        "from ultralytics import YOLO\n",
        "from IPython.display import display, Image"
      ],
      "metadata": {
        "id": "zWGQ2JdsmBeI"
      },
      "execution_count": 2,
      "outputs": []
    },
    {
      "cell_type": "code",
      "source": [
        "!pip install roboflow\n",
        "\n",
        "from roboflow import Roboflow\n",
        "rf = Roboflow(api_key=\"VvCCsWVIqq1VXYzk3Mhd\")\n",
        "project = rf.workspace(\"yolov8-af6df\").project(\"car-crash-2\")\n",
        "version = project.version(3)\n",
        "dataset = version.download(\"yolov8\")\n"
      ],
      "metadata": {
        "id": "utNw8POcmQNS"
      },
      "execution_count": null,
      "outputs": []
    },
    {
      "cell_type": "code",
      "source": [
        "\n",
        "!yolo task=detect mode=train model=yolov8n.pt data={dataset.location}/data.yaml epochs=100 imgsz=800 plots=True\n"
      ],
      "metadata": {
        "id": "RHb_pJbCmTa4"
      },
      "execution_count": null,
      "outputs": []
    },
    {
      "cell_type": "code",
      "source": [
        "model = YOLO('/content/runs/detect/train/weights/best.pt')"
      ],
      "metadata": {
        "id": "2xp9O9k9obd4"
      },
      "execution_count": 5,
      "outputs": []
    },
    {
      "cell_type": "code",
      "source": [
        "result = model(source='/content/cr.mp4', show=True, conf=0.4, save=True)"
      ],
      "metadata": {
        "id": "FhSpD8ZinE8N"
      },
      "execution_count": null,
      "outputs": []
    }
  ]
}